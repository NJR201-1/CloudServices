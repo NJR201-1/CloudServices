{
  "nbformat": 4,
  "nbformat_minor": 0,
  "metadata": {
    "colab": {
      "provenance": []
    },
    "kernelspec": {
      "name": "python3",
      "display_name": "Python 3"
    },
    "language_info": {
      "name": "python"
    }
  },
  "cells": [
    {
      "cell_type": "code",
      "execution_count": null,
      "metadata": {
        "colab": {
          "base_uri": "https://localhost:8080/"
        },
        "id": "Rylj-H1WQTJ5",
        "outputId": "18193271-75f8-4768-9524-a555c8a74cc5"
      },
      "outputs": [
        {
          "output_type": "stream",
          "name": "stderr",
          "text": [
            "/tmp/ipython-input-5-1098081250.py:5: DtypeWarning: Columns (12,29) have mixed types. Specify dtype option on import or set low_memory=False.\n",
            "  df = pd.read_csv(\"merged_taoyuan_data1_0730.csv\", encoding=\"utf-8\")\n",
            "/tmp/ipython-input-5-1098081250.py:24: UserWarning: Could not infer format, so each element will be parsed individually, falling back to `dateutil`. To ensure parsing is consistent and as-expected, please specify a format.\n",
            "  df['transaction_date'] = pd.to_datetime(df['transaction_date'], errors='coerce')\n"
          ]
        },
        {
          "output_type": "stream",
          "name": "stdout",
          "text": [
            "✅ 資料清理完成，已儲存為 taoyuan_cleaned.csv\n"
          ]
        }
      ],
      "source": [
        "import pandas as pd\n",
        "import numpy as np\n",
        "\n",
        "# 載入你剛剛另存的 UTF-8 CSV 檔\n",
        "df = pd.read_csv(\"merged_taoyuan_data1_0730.csv\", encoding=\"utf-8\")\n",
        "\n",
        "# ✅ 空白值變成 NaN\n",
        "df.replace(r'^\\s*$', np.nan, regex=True, inplace=True)\n",
        "\n",
        "# ✅ 民國日期欄轉成西元日期 (欄位名為 'transaction'，你也可以確認欄名是否不同)\n",
        "def convert_minguo_to_ad(date_str):\n",
        "    try:\n",
        "        date_str = str(int(date_str)).zfill(7)\n",
        "        year = int(date_str[:3]) + 1911\n",
        "        return f\"{year}-{date_str[3:5]}-{date_str[5:7]}\"\n",
        "    except:\n",
        "        return np.nan\n",
        "\n",
        "df['transaction_date'] = df['transaction_date'].apply(convert_minguo_to_ad)\n",
        "df['building_completion_date'] = df['building_completion_date'].apply(convert_minguo_to_ad)\n",
        "\n",
        "\n",
        "# 確保是 datetime 格式（可選，MySQL 可接受字串，但轉 datetime 可做更多分析）\n",
        "df['transaction_date'] = pd.to_datetime(df['transaction_date'], errors='coerce')\n",
        "df['building_completion_date'] = pd.to_datetime(df['building_completion_date'], errors='coerce')\n",
        "\n",
        "# ✅ 數值欄位轉為 float\n",
        "numeric_columns = [\n",
        "    'land_area', 'building_cc', 'building_a', 'layout_roo',\n",
        "    'layout_livi', 'layout_bath', 'total_price', 'price_per_',\n",
        "    'parking_ar', 'parking_to'\n",
        "]\n",
        "\n",
        "for col in numeric_columns:\n",
        "    if col in df.columns:\n",
        "        df[col] = pd.to_numeric(df[col], errors='coerce')\n",
        "\n",
        "# ✅ 「有/無」欄位 → 1 / 0\n",
        "bool_map = {'有': 1, '無': 0}\n",
        "for col in ['layout_par', 'has_manag']:\n",
        "    if col in df.columns:\n",
        "        df[col] = df[col].map(bool_map)\n",
        "\n",
        "# ✅ 刪除沒有價格或交易日期的資料\n",
        "df.dropna(subset=['transaction_date', 'total_price'], inplace=True)\n",
        "\n",
        "# ✅ 儲存為清理後的新檔案\n",
        "df.to_csv(\"taoyuan_cleaned.csv\", index=False, encoding=\"utf-8-sig\")\n",
        "\n",
        "print(\"✅ 資料清理完成，已儲存為 taoyuan_cleaned.csv\")\n"
      ]
    },
    {
      "cell_type": "code",
      "source": [
        "df = pd.read_csv(\"merged_taoyuan_data1_0730.csv\", encoding=\"utf-8\", low_memory=False)\n",
        "\n",
        "# 印出欄位名稱\n",
        "print(\"實際欄位名稱：\")\n",
        "print(df.columns.tolist())\n"
      ],
      "metadata": {
        "colab": {
          "base_uri": "https://localhost:8080/"
        },
        "id": "xSvAzga6Z3k3",
        "outputId": "ec87a238-2ba0-40a3-c88c-0aed89022d8e"
      },
      "execution_count": null,
      "outputs": [
        {
          "output_type": "stream",
          "name": "stdout",
          "text": [
            "實際欄位名稱：\n",
            "['district', 'transaction_target', 'address', 'land_area_sqm', 'urban_zone', 'non_urban_zone', 'non_urban_usage', 'transaction_date', 'total_floors', 'building_type', 'main_purpose', 'main_material', 'building_completion_date', 'building_area_sqm', 'layout_rooms', 'layout_living_rooms', 'layout_bathrooms', 'layout_partitions', 'has_management_org', 'total_price', 'price_per_sqm', 'parking_type', 'parking_area_sqm', 'parking_total_price', 'remark', 'serial_no', 'main_building_area', 'auxiliary_building_area', 'balcony_area', 'has_elevator', 'transaction_serial_no', 'parking_area_sqm_alt']\n"
          ]
        }
      ]
    },
    {
      "cell_type": "code",
      "source": [
        "import pandas as pd\n",
        "import numpy as np\n",
        "\n",
        "# 載入你剛剛另存的 UTF-8 CSV 檔\n",
        "df = pd.read_csv(\"merged_taoyuan_data1_07302.csv\", encoding=\"utf-8\")\n",
        "\n",
        "# ✅ 空白值變成 NaN\n",
        "df.replace(r'^\\s*$', np.nan, regex=True, inplace=True)\n",
        "\n",
        "# ✅ 民國日期欄轉成西元日期 (欄位名為 'transaction'，你也可以確認欄名是否不同)\n",
        "def convert_minguo_to_ad(date_str):\n",
        "    try:\n",
        "        date_str = str(int(date_str)).zfill(7)\n",
        "        year = int(date_str[:3]) + 1911\n",
        "        return f\"{year}-{date_str[3:5]}-{date_str[5:7]}\"\n",
        "    except:\n",
        "        return np.nan\n",
        "\n",
        "df['transaction_date'] = df['transaction_date'].apply(convert_minguo_to_ad)\n",
        "df['building_completion_date'] = df['building_completion_date'].apply(convert_minguo_to_ad)\n",
        "\n",
        "\n",
        "# 確保是 datetime 格式（可選，MySQL 可接受字串，但轉 datetime 可做更多分析）\n",
        "# 轉成標準字串格式 YYYY-MM-DD（補0）\n",
        "df['transaction_date'] = pd.to_datetime(df['transaction_date'], errors='coerce').dt.strftime('%Y-%m-%d')\n",
        "df['building_completion_date'] = pd.to_datetime(df['building_completion_date'], errors='coerce').dt.strftime('%Y-%m-%d')\n",
        "\n",
        "\n",
        "# ✅ 數值欄位轉為 float\n",
        "numeric_columns = [\n",
        "    'land_area', 'building_cc', 'building_a', 'layout_roo',\n",
        "    'layout_livi', 'layout_bath', 'total_price', 'price_per_',\n",
        "    'parking_ar', 'parking_to'\n",
        "]\n",
        "\n",
        "for col in numeric_columns:\n",
        "    if col in df.columns:\n",
        "        df[col] = pd.to_numeric(df[col], errors='coerce')\n",
        "\n",
        "# ✅ 「有/無」欄位 → 1 / 0\n",
        "bool_map = {'有': 1, '無': 0}\n",
        "for col in ['layout_par', 'has_manag']:\n",
        "    if col in df.columns:\n",
        "        df[col] = df[col].map(bool_map)\n",
        "\n",
        "# ✅ 刪除沒有價格或交易日期的資料\n",
        "df.dropna(subset=['transaction_date', 'total_price'], inplace=True)\n",
        "\n",
        "# ✅ 儲存為清理後的新檔案\n",
        "df.to_csv(\"taoyuan_cleaned2.csv\", index=False, encoding=\"utf-8-sig\")\n",
        "\n",
        "print(\"✅ 資料清理完成，已儲存為 taoyuan_cleaned2.csv\")\n"
      ],
      "metadata": {
        "colab": {
          "base_uri": "https://localhost:8080/"
        },
        "id": "0kfVBDeYdy6M",
        "outputId": "8caff409-2eaa-4940-ddba-fa086e333bd7"
      },
      "execution_count": null,
      "outputs": [
        {
          "output_type": "stream",
          "name": "stderr",
          "text": [
            "/tmp/ipython-input-8-2362230920.py:5: DtypeWarning: Columns (14,31) have mixed types. Specify dtype option on import or set low_memory=False.\n",
            "  df = pd.read_csv(\"merged_taoyuan_data1_07302.csv\", encoding=\"utf-8\")\n"
          ]
        },
        {
          "output_type": "stream",
          "name": "stdout",
          "text": [
            "✅ 資料清理完成，已儲存為 taoyuan_cleaned2.csv\n"
          ]
        }
      ]
    },
    {
      "cell_type": "code",
      "source": [
        "import pandas as pd\n",
        "from datetime import datetime\n",
        "\n",
        "# 讀取原始 CSV\n",
        "df = pd.read_csv('taoyuan_cleaned2.csv', dtype=str)\n",
        "\n",
        "# 修正日期格式 (transaction_date: 2019-05-08 已符合格式，只要確認為日期)\n",
        "df['transaction_date'] = pd.to_datetime(df['transaction_date'], errors='coerce').dt.strftime('%Y-%m-%d')\n",
        "\n",
        "# building_completion_date 民國年轉西元年\n",
        "def convert_minguo_date(date_str):\n",
        "    try:\n",
        "        if pd.isna(date_str) or len(date_str) != 7:\n",
        "            return None\n",
        "        y = int(date_str[:3]) + 1911\n",
        "        m = int(date_str[3:5])\n",
        "        d = int(date_str[5:7])\n",
        "        return f\"{y:04d}-{m:02d}-{d:02d}\"\n",
        "    except:\n",
        "        return None\n",
        "\n",
        "df['building_completion_date'] = df['building_completion_date'].apply(convert_minguo_date)\n",
        "\n",
        "# 將 \"有\"/\"無\" 轉換成 1/0\n",
        "df['has_management_org'] = df['has_management_org'].replace({'有': 1, '無': 0})\n",
        "df['has_elevator'] = df['has_elevator'].replace({'有': 1, '無': 0})\n",
        "\n",
        "# 替換空白欄位為 NULL\n",
        "df = df.replace(r'^\\s*$', None, regex=True)\n",
        "\n",
        "# 儲存清理後的 CSV\n",
        "df.to_csv('cleaned_data3.csv', index=False)\n"
      ],
      "metadata": {
        "colab": {
          "base_uri": "https://localhost:8080/"
        },
        "id": "9yYQDj2rsRT0",
        "outputId": "2134f0f7-217f-4712-f7ad-9a66ccbb9d0e"
      },
      "execution_count": null,
      "outputs": [
        {
          "output_type": "stream",
          "name": "stderr",
          "text": [
            "/tmp/ipython-input-9-3454532723.py:25: FutureWarning: Downcasting behavior in `replace` is deprecated and will be removed in a future version. To retain the old behavior, explicitly call `result.infer_objects(copy=False)`. To opt-in to the future behavior, set `pd.set_option('future.no_silent_downcasting', True)`\n",
            "  df['has_management_org'] = df['has_management_org'].replace({'有': 1, '無': 0})\n",
            "/tmp/ipython-input-9-3454532723.py:26: FutureWarning: Downcasting behavior in `replace` is deprecated and will be removed in a future version. To retain the old behavior, explicitly call `result.infer_objects(copy=False)`. To opt-in to the future behavior, set `pd.set_option('future.no_silent_downcasting', True)`\n",
            "  df['has_elevator'] = df['has_elevator'].replace({'有': 1, '無': 0})\n"
          ]
        }
      ]
    },
    {
      "cell_type": "code",
      "source": [
        "import pandas as pd\n",
        "from datetime import datetime\n",
        "\n",
        "\n",
        "df = pd.read_csv(\"taoyuan_cleaned_no.csv\")\n",
        "print(\"總筆數:\", len(df))\n",
        "print(\"去除空列:\", len(df.dropna(how='all')))\n",
        "print(\"空欄位數量：\")\n",
        "print(df.isnull().sum())\n",
        "\n",
        "print(\"資料筆數:\", len(df))\n",
        "print(\"不重複筆數:\", len(df.drop_duplicates()))"
      ],
      "metadata": {
        "colab": {
          "base_uri": "https://localhost:8080/"
        },
        "id": "czPdVL7hJLWS",
        "outputId": "e2db8282-f4f0-4bc4-d8be-41afda02765c"
      },
      "execution_count": null,
      "outputs": [
        {
          "output_type": "stream",
          "name": "stderr",
          "text": [
            "/tmp/ipython-input-2366776720.py:5: DtypeWarning: Columns (32) have mixed types. Specify dtype option on import or set low_memory=False.\n",
            "  df = pd.read_csv(\"taoyuan_cleaned_no.csv\")\n"
          ]
        },
        {
          "output_type": "stream",
          "name": "stdout",
          "text": [
            "總筆數: 101303\n",
            "去除空列: 101303\n",
            "空欄位數量：\n",
            "transaction number              0\n",
            "district                        0\n",
            "transaction_target              0\n",
            "address                         0\n",
            "land_area_sqm                   0\n",
            "urban_zone                  22751\n",
            "non_urban_zone              80236\n",
            "non_urban_usage             80238\n",
            "transaction_date                0\n",
            "transaction_count               0\n",
            "floor_level                 23000\n",
            "total_floors                23018\n",
            "building_type                   0\n",
            "main_purpose                23021\n",
            "main_material               23018\n",
            "building_completion_date    23142\n",
            "building_area_sqm               0\n",
            "layout_rooms                    0\n",
            "layout_living_rooms             0\n",
            "layout_bathrooms                0\n",
            "layout_partitions               0\n",
            "has_management_org              0\n",
            "total_price                     0\n",
            "price_per_sqm                1606\n",
            "parking_type                57321\n",
            "parking_area_sqm            29460\n",
            "parking_total_price             1\n",
            "remark                      71027\n",
            "serial_no                       1\n",
            "main_building_area              1\n",
            "auxiliary_building_area         1\n",
            "balcony_area                    1\n",
            "has_elevator                58766\n",
            "transaction_serial_no       86242\n",
            "parking_area_sqm_alt        71844\n",
            "dtype: int64\n",
            "資料筆數: 101303\n",
            "不重複筆數: 101303\n"
          ]
        }
      ]
    }
  ]
}