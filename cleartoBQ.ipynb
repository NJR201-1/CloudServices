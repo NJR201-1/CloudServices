{
  "nbformat": 4,
  "nbformat_minor": 0,
  "metadata": {
    "colab": {
      "provenance": []
    },
    "kernelspec": {
      "name": "python3",
      "display_name": "Python 3"
    },
    "language_info": {
      "name": "python"
    }
  },
  "cells": [
    {
      "cell_type": "code",
      "execution_count": null,
      "metadata": {
        "colab": {
          "base_uri": "https://localhost:8080/",
          "height": 356
        },
        "id": "9QTEFX3nMIfI",
        "outputId": "2915afda-81d6-4d5f-ee99-66a5e95d63e4"
      },
      "outputs": [
        {
          "output_type": "error",
          "ename": "JSONDecodeError",
          "evalue": "Unterminated string starting at: line 1 column 23515053 (char 23515052)",
          "traceback": [
            "\u001b[0;31m---------------------------------------------------------------------------\u001b[0m",
            "\u001b[0;31mJSONDecodeError\u001b[0m                           Traceback (most recent call last)",
            "\u001b[0;32m/tmp/ipython-input-1-1157272993.py\u001b[0m in \u001b[0;36m<cell line: 0>\u001b[0;34m()\u001b[0m\n\u001b[1;32m      4\u001b[0m \u001b[0;31m# 讀取 JSON 檔案\u001b[0m\u001b[0;34m\u001b[0m\u001b[0;34m\u001b[0m\u001b[0m\n\u001b[1;32m      5\u001b[0m \u001b[0;32mwith\u001b[0m \u001b[0mopen\u001b[0m\u001b[0;34m(\u001b[0m\u001b[0;34m'龜山區.json'\u001b[0m\u001b[0;34m,\u001b[0m \u001b[0;34m'r'\u001b[0m\u001b[0;34m,\u001b[0m \u001b[0mencoding\u001b[0m\u001b[0;34m=\u001b[0m\u001b[0;34m'utf-8'\u001b[0m\u001b[0;34m)\u001b[0m \u001b[0;32mas\u001b[0m \u001b[0mfile\u001b[0m\u001b[0;34m:\u001b[0m\u001b[0;34m\u001b[0m\u001b[0;34m\u001b[0m\u001b[0m\n\u001b[0;32m----> 6\u001b[0;31m     \u001b[0mdata\u001b[0m \u001b[0;34m=\u001b[0m \u001b[0mjson\u001b[0m\u001b[0;34m.\u001b[0m\u001b[0mload\u001b[0m\u001b[0;34m(\u001b[0m\u001b[0mfile\u001b[0m\u001b[0;34m)\u001b[0m\u001b[0;34m\u001b[0m\u001b[0;34m\u001b[0m\u001b[0m\n\u001b[0m\u001b[1;32m      7\u001b[0m \u001b[0;34m\u001b[0m\u001b[0m\n\u001b[1;32m      8\u001b[0m \u001b[0;31m# 轉為 DataFrame\u001b[0m\u001b[0;34m\u001b[0m\u001b[0;34m\u001b[0m\u001b[0m\n",
            "\u001b[0;32m/usr/lib/python3.11/json/__init__.py\u001b[0m in \u001b[0;36mload\u001b[0;34m(fp, cls, object_hook, parse_float, parse_int, parse_constant, object_pairs_hook, **kw)\u001b[0m\n\u001b[1;32m    291\u001b[0m     \u001b[0mkwarg\u001b[0m\u001b[0;34m;\u001b[0m \u001b[0motherwise\u001b[0m\u001b[0;31m \u001b[0m\u001b[0;31m`\u001b[0m\u001b[0;31m`\u001b[0m\u001b[0mJSONDecoder\u001b[0m\u001b[0;31m`\u001b[0m\u001b[0;31m`\u001b[0m \u001b[0;32mis\u001b[0m \u001b[0mused\u001b[0m\u001b[0;34m.\u001b[0m\u001b[0;34m\u001b[0m\u001b[0;34m\u001b[0m\u001b[0m\n\u001b[1;32m    292\u001b[0m     \"\"\"\n\u001b[0;32m--> 293\u001b[0;31m     return loads(fp.read(),\n\u001b[0m\u001b[1;32m    294\u001b[0m         \u001b[0mcls\u001b[0m\u001b[0;34m=\u001b[0m\u001b[0mcls\u001b[0m\u001b[0;34m,\u001b[0m \u001b[0mobject_hook\u001b[0m\u001b[0;34m=\u001b[0m\u001b[0mobject_hook\u001b[0m\u001b[0;34m,\u001b[0m\u001b[0;34m\u001b[0m\u001b[0;34m\u001b[0m\u001b[0m\n\u001b[1;32m    295\u001b[0m         \u001b[0mparse_float\u001b[0m\u001b[0;34m=\u001b[0m\u001b[0mparse_float\u001b[0m\u001b[0;34m,\u001b[0m \u001b[0mparse_int\u001b[0m\u001b[0;34m=\u001b[0m\u001b[0mparse_int\u001b[0m\u001b[0;34m,\u001b[0m\u001b[0;34m\u001b[0m\u001b[0;34m\u001b[0m\u001b[0m\n",
            "\u001b[0;32m/usr/lib/python3.11/json/__init__.py\u001b[0m in \u001b[0;36mloads\u001b[0;34m(s, cls, object_hook, parse_float, parse_int, parse_constant, object_pairs_hook, **kw)\u001b[0m\n\u001b[1;32m    344\u001b[0m             \u001b[0mparse_int\u001b[0m \u001b[0;32mis\u001b[0m \u001b[0;32mNone\u001b[0m \u001b[0;32mand\u001b[0m \u001b[0mparse_float\u001b[0m \u001b[0;32mis\u001b[0m \u001b[0;32mNone\u001b[0m \u001b[0;32mand\u001b[0m\u001b[0;34m\u001b[0m\u001b[0;34m\u001b[0m\u001b[0m\n\u001b[1;32m    345\u001b[0m             parse_constant is None and object_pairs_hook is None and not kw):\n\u001b[0;32m--> 346\u001b[0;31m         \u001b[0;32mreturn\u001b[0m \u001b[0m_default_decoder\u001b[0m\u001b[0;34m.\u001b[0m\u001b[0mdecode\u001b[0m\u001b[0;34m(\u001b[0m\u001b[0ms\u001b[0m\u001b[0;34m)\u001b[0m\u001b[0;34m\u001b[0m\u001b[0;34m\u001b[0m\u001b[0m\n\u001b[0m\u001b[1;32m    347\u001b[0m     \u001b[0;32mif\u001b[0m \u001b[0mcls\u001b[0m \u001b[0;32mis\u001b[0m \u001b[0;32mNone\u001b[0m\u001b[0;34m:\u001b[0m\u001b[0;34m\u001b[0m\u001b[0;34m\u001b[0m\u001b[0m\n\u001b[1;32m    348\u001b[0m         \u001b[0mcls\u001b[0m \u001b[0;34m=\u001b[0m \u001b[0mJSONDecoder\u001b[0m\u001b[0;34m\u001b[0m\u001b[0;34m\u001b[0m\u001b[0m\n",
            "\u001b[0;32m/usr/lib/python3.11/json/decoder.py\u001b[0m in \u001b[0;36mdecode\u001b[0;34m(self, s, _w)\u001b[0m\n\u001b[1;32m    335\u001b[0m \u001b[0;34m\u001b[0m\u001b[0m\n\u001b[1;32m    336\u001b[0m         \"\"\"\n\u001b[0;32m--> 337\u001b[0;31m         \u001b[0mobj\u001b[0m\u001b[0;34m,\u001b[0m \u001b[0mend\u001b[0m \u001b[0;34m=\u001b[0m \u001b[0mself\u001b[0m\u001b[0;34m.\u001b[0m\u001b[0mraw_decode\u001b[0m\u001b[0;34m(\u001b[0m\u001b[0ms\u001b[0m\u001b[0;34m,\u001b[0m \u001b[0midx\u001b[0m\u001b[0;34m=\u001b[0m\u001b[0m_w\u001b[0m\u001b[0;34m(\u001b[0m\u001b[0ms\u001b[0m\u001b[0;34m,\u001b[0m \u001b[0;36m0\u001b[0m\u001b[0;34m)\u001b[0m\u001b[0;34m.\u001b[0m\u001b[0mend\u001b[0m\u001b[0;34m(\u001b[0m\u001b[0;34m)\u001b[0m\u001b[0;34m)\u001b[0m\u001b[0;34m\u001b[0m\u001b[0;34m\u001b[0m\u001b[0m\n\u001b[0m\u001b[1;32m    338\u001b[0m         \u001b[0mend\u001b[0m \u001b[0;34m=\u001b[0m \u001b[0m_w\u001b[0m\u001b[0;34m(\u001b[0m\u001b[0ms\u001b[0m\u001b[0;34m,\u001b[0m \u001b[0mend\u001b[0m\u001b[0;34m)\u001b[0m\u001b[0;34m.\u001b[0m\u001b[0mend\u001b[0m\u001b[0;34m(\u001b[0m\u001b[0;34m)\u001b[0m\u001b[0;34m\u001b[0m\u001b[0;34m\u001b[0m\u001b[0m\n\u001b[1;32m    339\u001b[0m         \u001b[0;32mif\u001b[0m \u001b[0mend\u001b[0m \u001b[0;34m!=\u001b[0m \u001b[0mlen\u001b[0m\u001b[0;34m(\u001b[0m\u001b[0ms\u001b[0m\u001b[0;34m)\u001b[0m\u001b[0;34m:\u001b[0m\u001b[0;34m\u001b[0m\u001b[0;34m\u001b[0m\u001b[0m\n",
            "\u001b[0;32m/usr/lib/python3.11/json/decoder.py\u001b[0m in \u001b[0;36mraw_decode\u001b[0;34m(self, s, idx)\u001b[0m\n\u001b[1;32m    351\u001b[0m         \"\"\"\n\u001b[1;32m    352\u001b[0m         \u001b[0;32mtry\u001b[0m\u001b[0;34m:\u001b[0m\u001b[0;34m\u001b[0m\u001b[0;34m\u001b[0m\u001b[0m\n\u001b[0;32m--> 353\u001b[0;31m             \u001b[0mobj\u001b[0m\u001b[0;34m,\u001b[0m \u001b[0mend\u001b[0m \u001b[0;34m=\u001b[0m \u001b[0mself\u001b[0m\u001b[0;34m.\u001b[0m\u001b[0mscan_once\u001b[0m\u001b[0;34m(\u001b[0m\u001b[0ms\u001b[0m\u001b[0;34m,\u001b[0m \u001b[0midx\u001b[0m\u001b[0;34m)\u001b[0m\u001b[0;34m\u001b[0m\u001b[0;34m\u001b[0m\u001b[0m\n\u001b[0m\u001b[1;32m    354\u001b[0m         \u001b[0;32mexcept\u001b[0m \u001b[0mStopIteration\u001b[0m \u001b[0;32mas\u001b[0m \u001b[0merr\u001b[0m\u001b[0;34m:\u001b[0m\u001b[0;34m\u001b[0m\u001b[0;34m\u001b[0m\u001b[0m\n\u001b[1;32m    355\u001b[0m             \u001b[0;32mraise\u001b[0m \u001b[0mJSONDecodeError\u001b[0m\u001b[0;34m(\u001b[0m\u001b[0;34m\"Expecting value\"\u001b[0m\u001b[0;34m,\u001b[0m \u001b[0ms\u001b[0m\u001b[0;34m,\u001b[0m \u001b[0merr\u001b[0m\u001b[0;34m.\u001b[0m\u001b[0mvalue\u001b[0m\u001b[0;34m)\u001b[0m \u001b[0;32mfrom\u001b[0m \u001b[0;32mNone\u001b[0m\u001b[0;34m\u001b[0m\u001b[0;34m\u001b[0m\u001b[0m\n",
            "\u001b[0;31mJSONDecodeError\u001b[0m: Unterminated string starting at: line 1 column 23515053 (char 23515052)"
          ]
        }
      ],
      "source": [
        "\n",
        "import pandas as pd\n",
        "import json\n",
        "\n",
        "# 讀取 JSON 檔案\n",
        "with open('龜山區.json', 'r', encoding='utf-8') as file:\n",
        "    data = json.load(file)\n",
        "\n",
        "# 轉為 DataFrame\n",
        "df = pd.DataFrame(data)\n",
        "\n",
        "# 顯示表格\n",
        "print(df)"
      ]
    },
    {
      "cell_type": "code",
      "source": [
        "with open('龜山區.json', 'r', encoding='utf-8') as file:\n",
        "    content = file.read()\n",
        "\n",
        "# 嘗試手動補右中括號\n",
        "if not content.strip().endswith(']'):\n",
        "    content += ']'\n",
        "\n",
        "data = json.loads(content)\n",
        "df = pd.DataFrame(data)\n",
        "print(df)"
      ],
      "metadata": {
        "colab": {
          "base_uri": "https://localhost:8080/"
        },
        "id": "W7f5s2OvMLZI",
        "outputId": "338c26bf-6b71-4de7-b13a-68cbe6e155a4"
      },
      "execution_count": null,
      "outputs": [
        {
          "output_type": "stream",
          "name": "stdout",
          "text": [
            "      AA11    AA12                                   a              b    bn  \\\n",
            "0       其他                       陳厝段00810000地號#陳厝段81地號                        \n",
            "1       其他                      公西段08720000地號#公西段872地號                        \n",
            "2       其他                     楓義段14550000地號#楓義段1455地號                        \n",
            "3        商               龜山區中山街００１８號地下一層#龜山區中山街１８號地下一層                        \n",
            "4                              龜山區文昌五街００４２號#龜山區文昌五街４２號  華廈(10層含以下有電梯)  A8優品   \n",
            "...    ...     ...                                 ...            ...   ...   \n",
            "54654    農          牛角坡段樟腦寮小段02070000地號#牛角坡段樟腦寮小段207地號                        \n",
            "54655       丙種建築用地              東嶺段09420000地號#東嶺段942地號                        \n",
            "54656    住                        善捷段00020000地號#善捷段2地號                        \n",
            "54657    住             龜山區自強南路２８７巷００４５號#龜山區自強南路２８７巷４５號            透天厝         \n",
            "54658    住              龜山區明成街０２１６之６號六樓#龜山區明成街２１６之６號六樓   套房(1房(1廳)1衛)         \n",
            "\n",
            "           bs city                                        commid   cp  \\\n",
            "0                H                                                      \n",
            "1                H                                                      \n",
            "2                H                                                      \n",
            "3                H                                                160   \n",
            "4      56.03%    H  OwJD6naCnHq5CiFd6B5LWoEtlDZyj2LyS3yhIOKXTJw=        \n",
            "...       ...  ...                                           ...  ...   \n",
            "54654            H                                                      \n",
            "54655            H                                                      \n",
            "54656            H                                                      \n",
            "54657            H                                                      \n",
            "54658  55.63%    H                                                      \n",
            "\n",
            "               e  ... reid          s  \\\n",
            "0      114/05/02  ...           43.11   \n",
            "1      114/05/02  ...           25.95   \n",
            "2      114/05/08  ...            2.28   \n",
            "3      114/04/23  ...           11.04   \n",
            "4      114/04/01  ...           41.43   \n",
            "...          ...  ...  ...        ...   \n",
            "54654  101/03/20  ...        2,109.33   \n",
            "54655  101/03/30  ...           53.43   \n",
            "54656  101/02/06  ...       10,757.01   \n",
            "54657  101/02/12  ...           56.08   \n",
            "54658  101/01/30  ...           11.52   \n",
            "\n",
            "                                                 sq          t town  \\\n",
            "0      AY54J4VglJZiXWIb6lr2Z4EtlDZyj2LyS3yhIOKXTJw=         土地  H07   \n",
            "1      /8suk9oBnfBQ063ybu20IoEtlDZyj2LyS3yhIOKXTJw=         土地  H07   \n",
            "2      KjhdSLdxtHoDIW/A+jqSgYEtlDZyj2LyS3yhIOKXTJw=         土地  H07   \n",
            "3      nb9VwEVXXMsDYM1dMOiSB4EtlDZyj2LyS3yhIOKXTJw=         車位  H07   \n",
            "4      OwJD6naCnHq5CiFd6B5LWoEtlDZyj2LyS3yhIOKXTJw=         建物  H07   \n",
            "...                                             ...        ...  ...   \n",
            "54654  /dlxQSDNMKgkJukb7/5aCYEtlDZyj2LyS3yhIOKXTJw=         土地  H07   \n",
            "54655  MrZp3UZdlGKkC84qSHV+3YEtlDZyj2LyS3yhIOKXTJw=         土地  H07   \n",
            "54656  S8Sb1AH90LEDumY6cXtfBoEtlDZyj2LyS3yhIOKXTJw=         土地  H07   \n",
            "54657  5Utjj9wpKdLZ75DU9lGGRYEtlDZyj2LyS3yhIOKXTJw=  房地(土地+建物)  H07   \n",
            "54658  Kf9bRtAZ0Ru/H/rWMsq88YEtlDZyj2LyS3yhIOKXTJw=  房地(土地+建物)  H07   \n",
            "\n",
            "                  tp tunit type unit       v  \n",
            "0            560,477     1  Biz    2          \n",
            "1            648,643     1  Biz    2          \n",
            "2            128,426     1  Biz    2          \n",
            "3          1,600,000     1  Biz    2          \n",
            "4         10,000,000     1  Biz    2          \n",
            "...              ...   ...  ...  ...     ...  \n",
            "54654     70,000,000     1  Biz    2          \n",
            "54655      1,100,000     1  Biz    2          \n",
            "54656  2,808,878,066     1  Biz    2          \n",
            "54657     10,200,000     1  Biz    2  5房2廳4衛  \n",
            "54658      1,720,000     1  Biz    2  1房1廳1衛  \n",
            "\n",
            "[54659 rows x 41 columns]\n"
          ]
        }
      ]
    },
    {
      "cell_type": "code",
      "source": [
        "import csv\n",
        "import json\n",
        "\n",
        "input_csv = \"taoyuan_cleaned_no.csv\"     # ← 把這裡改成你的檔名\n",
        "output_json = \"taoyuan_cleaned_no.json\"      # ← 輸出的 JSON 檔名\n",
        "\n",
        "with open(input_csv, mode='r', encoding='utf-8') as csv_file, \\\n",
        "     open(output_json, mode='w', encoding='utf-8') as json_file:\n",
        "\n",
        "    reader = csv.DictReader(csv_file)\n",
        "\n",
        "    json_file.write('[\\n')  # 開頭\n",
        "\n",
        "    first = True\n",
        "    for row in reader:\n",
        "        if not first:\n",
        "            json_file.write(',\\n')\n",
        "        json.dump(row, json_file, ensure_ascii=False)\n",
        "        first = False\n",
        "\n",
        "    json_file.write('\\n]')  # 結尾\n",
        "\n",
        "print(\"✅ 轉換完成！JSON 檔案已儲存為：\", output_json)\n"
      ],
      "metadata": {
        "id": "JmL-L7J7NBsg",
        "colab": {
          "base_uri": "https://localhost:8080/"
        },
        "outputId": "dc3a72f5-1248-4059-c1b7-9247fb02eab5"
      },
      "execution_count": null,
      "outputs": [
        {
          "output_type": "stream",
          "name": "stdout",
          "text": [
            "✅ 轉換完成！JSON 檔案已儲存為： taoyuan_cleaned_no.json\n"
          ]
        }
      ]
    },
    {
      "cell_type": "code",
      "source": [
        "#清洗\n",
        "import json\n",
        "import re\n",
        "\n",
        "input_file = 'taoyuan_cleaned_no -by MaxAI.json'           # 改成你的來源檔案\n",
        "output_file = 'cleaned_output.jsonl'     # BigQuery 能吃的 JSONL 檔案\n",
        "\n",
        "def clean_field_name(name):\n",
        "    # 移除不合法字元，只保留中英文字母、數字與底線\n",
        "    name = re.sub(r'[^\\w\\u4e00-\\u9fff]', '', name)\n",
        "    return name\n",
        "\n",
        "with open(input_file, 'r', encoding='utf-8') as f:\n",
        "    data = json.load(f)  # 假設原始是 JSON 陣列\n",
        "\n",
        "with open(output_file, 'w', encoding='utf-8') as f:\n",
        "    for record in data:\n",
        "        cleaned = {clean_field_name(k): v for k, v in record.items()}\n",
        "        json.dump(cleaned, f, ensure_ascii=False)\n",
        "        f.write('\\n')\n",
        "\n",
        "print(\"✅ 欄位名稱清理完成，輸出檔案：\", output_file)\n"
      ],
      "metadata": {
        "colab": {
          "base_uri": "https://localhost:8080/"
        },
        "id": "SWBF3e24FzZz",
        "outputId": "c4b82fc0-64f0-4339-b34f-5b988113db80"
      },
      "execution_count": null,
      "outputs": [
        {
          "output_type": "stream",
          "name": "stdout",
          "text": [
            "✅ 欄位名稱清理完成，輸出檔案： cleaned_output.jsonl\n"
          ]
        }
      ]
    },
    {
      "cell_type": "code",
      "source": [
        "#清理空白欄位名稱\n",
        "import pandas as pd\n",
        "import json\n",
        "import re\n",
        "\n",
        "# 讀取 CSV\n",
        "df = pd.read_csv('taoyuan_cleaned_no.csv')  # 請改成你的檔案名稱\n",
        "\n",
        "# 清理欄位名稱\n",
        "def clean_column(col):\n",
        "    if not isinstance(col, str) or col.strip() == '':\n",
        "        return None  # 丟掉空白欄位名\n",
        "    # 僅保留中英文、數字、底線\n",
        "    cleaned = re.sub(r'[^\\w\\u4e00-\\u9fff]', '', col)\n",
        "    return cleaned if cleaned else None  # 若清完還是空，就不要保留\n",
        "\n",
        "# 套用欄位清理\n",
        "df.columns = [clean_column(col) for col in df.columns]\n",
        "\n",
        "# 移除欄位名為 None 的欄位\n",
        "df = df.loc[:, df.columns.notnull()]\n",
        "\n",
        "# 輸出成 newline-delimited JSON\n",
        "with open('output_cleaned.json2', 'w', encoding='utf-8') as f:\n",
        "    for record in df.to_dict(orient='records'):\n",
        "        json.dump(record, f, ensure_ascii=False)\n",
        "        f.write('\\n')\n",
        "\n",
        "print(\"✅ 檔案處理完成，已儲存為 output_cleaned.json2\")\n"
      ],
      "metadata": {
        "colab": {
          "base_uri": "https://localhost:8080/"
        },
        "id": "IceuFh_OG9Kv",
        "outputId": "9beab608-e0c9-4522-f1f3-796f2c4ece37"
      },
      "execution_count": null,
      "outputs": [
        {
          "output_type": "stream",
          "name": "stderr",
          "text": [
            "/tmp/ipython-input-2720534025.py:7: DtypeWarning: Columns (32) have mixed types. Specify dtype option on import or set low_memory=False.\n",
            "  df = pd.read_csv('taoyuan_cleaned_no.csv')  # 請改成你的檔案名稱\n"
          ]
        },
        {
          "output_type": "stream",
          "name": "stdout",
          "text": [
            "✅ 檔案處理完成，已儲存為 output_cleaned.json2\n"
          ]
        }
      ]
    },
    {
      "cell_type": "code",
      "source": [
        "#掃描並修復空欄位名稱的 JSON 檔案\n",
        "import json\n",
        "import os\n",
        "\n",
        "input_file = 'output_cleaned.json'          # 請換成你的 JSONL 檔名\n",
        "output_file = 'cleaned_file.json'\n",
        "\n",
        "fixed_count = 0\n",
        "\n",
        "with open(input_file, 'r', encoding='utf-8') as infile, open(output_file, 'w', encoding='utf-8') as outfile:\n",
        "    for i, line in enumerate(infile, 1):\n",
        "        try:\n",
        "            record = json.loads(line)\n",
        "            new_record = {}\n",
        "            empty_field_counter = 1\n",
        "            for key, value in record.items():\n",
        "                new_key = key if key.strip() else f'field_{empty_field_counter}'\n",
        "                if new_key != key:\n",
        "                    fixed_count += 1\n",
        "                    empty_field_counter += 1\n",
        "                new_record[new_key] = value\n",
        "            outfile.write(json.dumps(new_record, ensure_ascii=False) + '\\n')\n",
        "        except json.JSONDecodeError:\n",
        "            print(f\"⚠️ 第 {i} 行 JSON 無法解析，已略過。\")\n",
        "\n",
        "print(f\"✅ 清理完成！已修復 {fixed_count} 個空欄位名稱。結果輸出到：{output_file}\")\n"
      ],
      "metadata": {
        "colab": {
          "base_uri": "https://localhost:8080/"
        },
        "id": "qbpfvQ7wKW8G",
        "outputId": "229d0874-b17a-4c70-fb62-5b318c9df5f3"
      },
      "execution_count": null,
      "outputs": [
        {
          "output_type": "stream",
          "name": "stdout",
          "text": [
            "✅ 清理完成！已修復 0 個空欄位名稱。結果輸出到：cleaned_file.json\n"
          ]
        }
      ]
    },
    {
      "cell_type": "code",
      "source": [
        "#轉換到bq可對應的欄位\n",
        "\n",
        "import pandas as pd\n",
        "\n",
        "df = pd.read_csv(\"/content/taoyuan_cleaned_no.csv\")\n",
        "\n",
        "print(\"原始欄位:\", df.columns.tolist())\n",
        "\n",
        "df.rename(columns={\n",
        "    \"transaction number\": \"transaction_number\",\n",
        "    \"transaction date\": \"transaction_date\",\n",
        "    \"transaction target\": \"transaction_target\",\n",
        "    \"land area sqm\": \"land_area_sqm\",\n",
        "    \"urban zone\": \"urban_zone\",\n",
        "    \"non urban zone\": \"non_urban_zone\",\n",
        "    \"non urban usage\": \"non_urban_usage\",\n",
        "    \"transaction date\": \"transaction_date\",\n",
        "    \"transaction count\": \"transaction_count\",\n",
        "    \"floor level\": \"floor_level\",\n",
        "    \"total floors\": \"total_floors\",\n",
        "    \"building type\": \"building_type\",\n",
        "    \"main purpose\": \"main_purpose\",\n",
        "    \"main material\": \"main_material\",\n",
        "    \"building completion date\": \"building_completion_date\",\n",
        "    \"building area sqm\": \"building_area_sqm\",\n",
        "    \"layout rooms\": \"layout_rooms\",\n",
        "    \"layout living rooms\": \"layout_living_rooms\",\n",
        "    \"layout bathrooms\": \"layout_bathrooms\",\n",
        "    \"layout partitions\": \"layout_partitions\",\n",
        "    \"has management org\": \"has_management_org\",\n",
        "    \"total price\": \"total_price\",\n",
        "    \"price per sqm\": \"price_per_sqm\",\n",
        "    \"parking type\": \"parking_type\",\n",
        "    \"parking area sqm\": \"parking_area_sqm\",\n",
        "    \"parking total price\": \"parking_total_price\",\n",
        "    \"remark\": \"remark\",\n",
        "    \"serial no\": \"serial_no\",\n",
        "    \"main building area\": \"main_building_area\",\n",
        "    \"auxiliary building area\": \"auxiliary_building_area\",\n",
        "    \"balcony area\": \"balcony_area\",\n",
        "    \"has elevator\": \"has_elevator\",\n",
        "    \"transaction serial no\": \"transaction_serial_no\",\n",
        "    \"parking_area_sqm_alt\": \"parking_area_sqm_alt\",\n",
        "    \"parking_total_price_alt\": \"parking_total_price_alt\",\n",
        "    \"parking_price_per_sqm\": \"parking_price_per_sqm\",\n",
        "    }, inplace=True)\n",
        "\n",
        "print(\"改名後欄位:\", df.columns.tolist())\n",
        "\n",
        "df[\"transaction_date\"] = pd.to_datetime(df[\"transaction_date\"]).dt.date\n"
      ],
      "metadata": {
        "colab": {
          "base_uri": "https://localhost:8080/"
        },
        "id": "yoXDZPul4Aoo",
        "outputId": "6aa8b5f0-dbbc-467e-d811-0fe46b904be9"
      },
      "execution_count": null,
      "outputs": [
        {
          "output_type": "stream",
          "name": "stderr",
          "text": [
            "/tmp/ipython-input-35461283.py:5: DtypeWarning: Columns (32) have mixed types. Specify dtype option on import or set low_memory=False.\n",
            "  df = pd.read_csv(\"/content/taoyuan_cleaned_no.csv\")\n"
          ]
        },
        {
          "output_type": "stream",
          "name": "stdout",
          "text": [
            "原始欄位: ['transaction number', 'district', 'transaction_target', 'address', 'land_area_sqm', 'urban_zone', 'non_urban_zone', 'non_urban_usage', 'transaction_date', 'transaction_count', 'floor_level', 'total_floors', 'building_type', 'main_purpose', 'main_material', 'building_completion_date', 'building_area_sqm', 'layout_rooms', 'layout_living_rooms', 'layout_bathrooms', 'layout_partitions', 'has_management_org', 'total_price', 'price_per_sqm', 'parking_type', 'parking_area_sqm', 'parking_total_price', 'remark', 'serial_no', 'main_building_area', 'auxiliary_building_area', 'balcony_area', 'has_elevator', 'transaction_serial_no', 'parking_area_sqm_alt']\n",
            "改名後欄位: ['transaction_number', 'district', 'transaction_target', 'address', 'land_area_sqm', 'urban_zone', 'non_urban_zone', 'non_urban_usage', 'transaction_date', 'transaction_count', 'floor_level', 'total_floors', 'building_type', 'main_purpose', 'main_material', 'building_completion_date', 'building_area_sqm', 'layout_rooms', 'layout_living_rooms', 'layout_bathrooms', 'layout_partitions', 'has_management_org', 'total_price', 'price_per_sqm', 'parking_type', 'parking_area_sqm', 'parking_total_price', 'remark', 'serial_no', 'main_building_area', 'auxiliary_building_area', 'balcony_area', 'has_elevator', 'transaction_serial_no', 'parking_area_sqm_alt']\n"
          ]
        }
      ]
    },
    {
      "cell_type": "code",
      "source": [
        "import pandas as pd\n",
        "\n",
        "df = pd.read_csv(\"/content/taoyuan_cleaned_no.csv\")\n",
        "\n",
        "print(\"原始欄位:\", df.columns.tolist())\n",
        "\n",
        "df.rename(columns={\n",
        "    \"transaction number\": \"transaction_number\",\n",
        "    \"transaction date\": \"transaction_date\",\n",
        "    \"transaction target\": \"transaction_target\",\n",
        "    \"address\": \"address\",\n",
        "    \"land area sqm\": \"land_area_sqm\",\n",
        "    \"urban zone\": \"urban_zone\",\n",
        "    \"non urban zone\": \"non_urban_zone\",\n",
        "    \"non urban usage\": \"non_urban_usage\",\n",
        "    \"transaction count\": \"transaction_count\",\n",
        "    \"floor level\": \"floor_level\",\n",
        "    \"total floors\": \"total_floors\",\n",
        "    \"building type\": \"building_type\",\n",
        "    \"main purpose\": \"main_purpose\",\n",
        "    \"main material\": \"main_material\",\n",
        "    \"building completion date\": \"building_completion_date\",\n",
        "    \"building area sqm\": \"building_area_sqm\",\n",
        "    \"layout rooms\": \"layout_rooms\",\n",
        "    \"layout living rooms\": \"layout_living_rooms\",\n",
        "    \"layout bathrooms\": \"layout_bathrooms\",\n",
        "    \"layout partitions\": \"layout_partitions\",\n",
        "    \"has management org\": \"has_management_org\",\n",
        "    \"total price\": \"total_price\",\n",
        "    \"price per sqm\": \"price_per_sqm\",\n",
        "    \"parking type\": \"parking_type\",\n",
        "    \"parking area sqm\": \"parking_area_sqm\",\n",
        "    \"parking total price\": \"parking_total_price\",\n",
        "    \"remark\": \"remark\",\n",
        "    \"serial no\": \"serial_no\",\n",
        "    \"main building area\": \"main_building_area\",\n",
        "    \"auxiliary building area\": \"auxiliary_building_area\",\n",
        "    \"balcony area\": \"balcony_area\",\n",
        "    \"has elevator\": \"has_elevator\",\n",
        "    \"transaction serial no\": \"transaction_serial_no\",\n",
        "    \"parking area sqm alt\": \"parking_area_sqm_alt\",\n",
        "    \"parking total price alt\": \"parking_total_price_alt\",\n",
        "    \"parking price per sqm\": \"parking_price_per_sqm\",\n",
        "}, inplace=True)\n",
        "\n",
        "print(\"改名後欄位:\", df.columns.tolist())\n",
        "\n",
        "df[\"transaction_date\"] = pd.to_datetime(df[\"transaction_date\"]).dt.date\n",
        "\n",
        "# 存成新檔，方便之後直接上傳\n",
        "df.to_csv(\"/content/taoyuan_cleaned_no_renamed.csv\", index=False)\n",
        "\n",
        "print(\"欄位改名並存檔完成！\")\n"
      ],
      "metadata": {
        "id": "guNdYRac83EB",
        "outputId": "aaaa779c-eaa4-44be-92d4-7507e14a2b8f",
        "colab": {
          "base_uri": "https://localhost:8080/"
        }
      },
      "execution_count": null,
      "outputs": [
        {
          "output_type": "stream",
          "name": "stderr",
          "text": [
            "/tmp/ipython-input-2846865960.py:3: DtypeWarning: Columns (32) have mixed types. Specify dtype option on import or set low_memory=False.\n",
            "  df = pd.read_csv(\"/content/taoyuan_cleaned_no.csv\")\n"
          ]
        },
        {
          "output_type": "stream",
          "name": "stdout",
          "text": [
            "原始欄位: ['transaction number', 'district', 'transaction_target', 'address', 'land_area_sqm', 'urban_zone', 'non_urban_zone', 'non_urban_usage', 'transaction_date', 'transaction_count', 'floor_level', 'total_floors', 'building_type', 'main_purpose', 'main_material', 'building_completion_date', 'building_area_sqm', 'layout_rooms', 'layout_living_rooms', 'layout_bathrooms', 'layout_partitions', 'has_management_org', 'total_price', 'price_per_sqm', 'parking_type', 'parking_area_sqm', 'parking_total_price', 'remark', 'serial_no', 'main_building_area', 'auxiliary_building_area', 'balcony_area', 'has_elevator', 'transaction_serial_no', 'parking_area_sqm_alt']\n",
            "改名後欄位: ['transaction_number', 'district', 'transaction_target', 'address', 'land_area_sqm', 'urban_zone', 'non_urban_zone', 'non_urban_usage', 'transaction_date', 'transaction_count', 'floor_level', 'total_floors', 'building_type', 'main_purpose', 'main_material', 'building_completion_date', 'building_area_sqm', 'layout_rooms', 'layout_living_rooms', 'layout_bathrooms', 'layout_partitions', 'has_management_org', 'total_price', 'price_per_sqm', 'parking_type', 'parking_area_sqm', 'parking_total_price', 'remark', 'serial_no', 'main_building_area', 'auxiliary_building_area', 'balcony_area', 'has_elevator', 'transaction_serial_no', 'parking_area_sqm_alt']\n",
            "欄位改名並存檔完成！\n"
          ]
        }
      ]
    }
  ]
}